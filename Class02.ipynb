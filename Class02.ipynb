{
  "nbformat": 4,
  "nbformat_minor": 0,
  "metadata": {
    "colab": {
      "provenance": [],
      "include_colab_link": true
    },
    "kernelspec": {
      "name": "python3",
      "display_name": "Python 3"
    },
    "language_info": {
      "name": "python"
    }
  },
  "cells": [
    {
      "cell_type": "markdown",
      "metadata": {
        "id": "view-in-github",
        "colab_type": "text"
      },
      "source": [
        "<a href=\"https://colab.research.google.com/github/AntonioFlorido/TE/blob/main/Class02.ipynb\" target=\"_parent\"><img src=\"https://colab.research.google.com/assets/colab-badge.svg\" alt=\"Open In Colab\"/></a>"
      ]
    },
    {
      "cell_type": "markdown",
      "source": [
        "#Simple Python\n"
      ],
      "metadata": {
        "id": "Mf3ue6e-uUmx"
      }
    },
    {
      "cell_type": "markdown",
      "source": [
        "In the class A, students' heights are:\n",
        "\n",
        "161.5\n",
        "165.9\n",
        "168.7\n",
        "163.1\n",
        "170.8\n",
        "167.2\n",
        "\n",
        "In the class B, students' heights are:\n",
        "\n",
        "172.5\n",
        "162.9\n",
        "161.7\n",
        "160.1\n",
        "161.8\n",
        "169.2\n",
        "\n",
        "The class A and the class B are joined together to form the class AB. Write a code to calculate the mean height by using Python 'list' and 'for' loop"
      ],
      "metadata": {
        "id": "I-g2O1erp4rp"
      }
    },
    {
      "cell_type": "code",
      "execution_count": null,
      "metadata": {
        "id": "C2GNtXrfp105",
        "colab": {
          "base_uri": "https://localhost:8080/"
        },
        "outputId": "8b85fe83-4ae2-44e9-aed0-78709b0fe950"
      },
      "outputs": [
        {
          "output_type": "stream",
          "name": "stdout",
          "text": [
            "161.5\n",
            "165.9\n",
            "168.7\n",
            "163.1\n",
            "170.8\n",
            "167.2\n",
            "172.5\n",
            "162.9\n",
            "161.7\n",
            "160.1\n",
            "161.8\n",
            "169.2\n",
            "The mean height for class AB is: 165.45000000000002\n"
          ]
        }
      ],
      "source": [
        "# create a list for class A heights and class B heights\n",
        "class_A_heights = [161.5, 165.9, 168.7, 163.1, 170.8, 167.2]\n",
        "class_B_heights = [172.5, 162.9, 161.7, 160.1, 161.8, 169.2]\n",
        "\n",
        "# combine class A and class B heights into one list\n",
        "class_AB_heights = class_A_heights + class_B_heights\n",
        "\n",
        "# initialize a variable to store the sum of all heights\n",
        "total_height = 0\n",
        "\n",
        "# use a for loop to iterate through each height in the list and add it to the total height\n",
        "for height in class_AB_heights:\n",
        "    total_height += height\n",
        "    print(height)\n",
        "# calculate the mean height by dividing the total height by the number of heights in the list\n",
        "mean_height = total_height / len(class_AB_heights)\n",
        "\n",
        "# print the mean height\n",
        "print(\"The mean height for class AB is:\", mean_height)"
      ]
    },
    {
      "cell_type": "markdown",
      "source": [
        "Write a python code to sort the heights of the class AB."
      ],
      "metadata": {
        "id": "q-EKIni7q7fr"
      }
    },
    {
      "cell_type": "code",
      "source": [
        "# Heights of class A\n",
        "class_a_heights = [161.5, 165.9, 168.7, 163.1, 170.8, 167.2]\n",
        "\n",
        "# Heights of class B\n",
        "class_b_heights = [172.5, 162.9, 161.7, 160.1, 161.8, 169.2]\n",
        "\n",
        "# Combine heights of both classes\n",
        "class_ab_heights = class_a_heights + class_b_heights\n",
        "\n",
        "# Sort the heights in ascending order\n",
        "class_ab_heights.sort()\n",
        "\n",
        "# Print the sorted heights\n",
        "print(class_ab_heights)\n",
        "\n",
        "\n",
        "\n"
      ],
      "metadata": {
        "id": "r10GJvR6q-s9",
        "colab": {
          "base_uri": "https://localhost:8080/"
        },
        "outputId": "1d3d2221-aee3-46a0-d927-8af023a68f7e"
      },
      "execution_count": null,
      "outputs": [
        {
          "output_type": "stream",
          "name": "stdout",
          "text": [
            "[160.1, 161.5, 161.7, 161.8, 162.9, 163.1, 165.9, 167.2, 168.7, 169.2, 170.8, 172.5]\n"
          ]
        }
      ]
    },
    {
      "cell_type": "markdown",
      "source": [
        " The class C is formed with students with the height less than 165. Make a list 'C' containing the heights of the class C."
      ],
      "metadata": {
        "id": "oLg5_C33rRrm"
      }
    },
    {
      "cell_type": "code",
      "source": [
        "# Heights of students in Class A\n",
        "class_a = [161.5, 165.9, 168.7, 163.1, 170.8, 167.2]\n",
        "\n",
        "# Heights of students in Class B\n",
        "class_b = [172.5, 162.9, 161.7, 160.1, 161.8, 169.2]\n",
        "\n",
        "# Heights of students in Class C (less than 165 cm)\n",
        "class_c = [height for height in class_a + class_b if height < 165]\n",
        "\n",
        "print(\"Heights of students in Class C:\", class_c)"
      ],
      "metadata": {
        "id": "ObnyjBy6rS2U",
        "colab": {
          "base_uri": "https://localhost:8080/"
        },
        "outputId": "e29500a8-8229-4a55-c959-500f2ab41e25"
      },
      "execution_count": null,
      "outputs": [
        {
          "output_type": "stream",
          "name": "stdout",
          "text": [
            "Heights of students in Class C: [161.5, 163.1, 162.9, 161.7, 160.1, 161.8]\n"
          ]
        }
      ]
    },
    {
      "cell_type": "markdown",
      "source": [
        "The class D is formed with students with the height larger than 160 and less than 170. Make a list containing the heights of the class D."
      ],
      "metadata": {
        "id": "E5v1T2XErWbO"
      }
    },
    {
      "cell_type": "code",
      "source": [
        "# Define the list of heights for class A\n",
        "class_A = [161.5, 165.9, 168.7, 163.1, 170.8, 167.2]\n",
        "\n",
        "# Define the list of heights for class B\n",
        "class_B = [172.5, 162.9, 161.7, 160.1, 161.8, 169.2]\n",
        "\n",
        "# Create an empty list to store the heights of students in class D\n",
        "class_D = []\n",
        "\n",
        "# Iterate through the heights in class A and add the heights that satisfy the condition to class D\n",
        "for height in class_A:\n",
        "    if 160 < height < 170:\n",
        "        class_D.append(height)\n",
        "\n",
        "# Iterate through the heights in class B and add the heights that satisfy the condition to class D\n",
        "for height in class_B:\n",
        "    if 160 < height < 170:\n",
        "        class_D.append(height)\n",
        "\n",
        "# Print the list of heights in class D\n",
        "print(class_D)"
      ],
      "metadata": {
        "id": "qxEvfiNerXhf",
        "outputId": "8a7c8eef-f7dd-42dc-8e64-1238735bbab3",
        "colab": {
          "base_uri": "https://localhost:8080/"
        }
      },
      "execution_count": 1,
      "outputs": [
        {
          "output_type": "stream",
          "name": "stdout",
          "text": [
            "[161.5, 165.9, 168.7, 163.1, 167.2, 162.9, 161.7, 160.1, 161.8, 169.2]\n"
          ]
        }
      ]
    },
    {
      "cell_type": "markdown",
      "source": [
        "Use a lambda function and map() to answer the following questions.\n",
        "1). Add 1 to each element of the list 'a' and create another list.\n",
        "\n",
        "a = [1, 2, 3, 4, 5, 6, 7, 8, 9, 10]"
      ],
      "metadata": {
        "id": "HNuB0Ym1rjo2"
      }
    },
    {
      "cell_type": "code",
      "source": [
        "# Define the list of heights for class A\n",
        "class_A = [161.5, 165.9, 168.7, 163.1, 170.8, 167.2]\n",
        "\n",
        "# Define the list of heights for class B\n",
        "class_B = [172.5, 162.9, 161.7, 160.1, 161.8, 169.2]\n",
        "\n",
        "# Use a lambda function and map to add 1 to each element in the list class_A\n",
        "class_A_plus_1 = list(map(lambda x: x + 1, class_A))\n",
        "\n",
        "# Use a lambda function and map to add 1 to each element in the list class_B\n",
        "class_B_plus_1 = list(map(lambda x: x + 1, class_B))\n",
        "\n",
        "# Print the new lists\n",
        "print(class_A_plus_1)\n",
        "print(class_B_plus_1)"
      ],
      "metadata": {
        "id": "qcS7mwC5r5-v",
        "outputId": "0afd9c7b-c34c-44dc-cadf-710c058d3708",
        "colab": {
          "base_uri": "https://localhost:8080/"
        }
      },
      "execution_count": 2,
      "outputs": [
        {
          "output_type": "stream",
          "name": "stdout",
          "text": [
            "[162.5, 166.9, 169.7, 164.1, 171.8, 168.2]\n",
            "[173.5, 163.9, 162.7, 161.1, 162.8, 170.2]\n"
          ]
        }
      ]
    },
    {
      "cell_type": "markdown",
      "source": [
        "In the following list of names, extract only those stargin with 'J'. Show the result as a list.\n",
        "\n",
        "a = ['Sara', 'Jack', 'Rebecca', 'Jennifer', 'Paul', 'Andrew', 'John']"
      ],
      "metadata": {
        "id": "xA5Eeeper5Fw"
      }
    },
    {
      "cell_type": "code",
      "source": [],
      "metadata": {
        "id": "mDgRtPoRspfi"
      },
      "execution_count": null,
      "outputs": []
    },
    {
      "cell_type": "markdown",
      "source": [
        "Code the class named 'Calculator' that outputs the result as shown.\n",
        "\n",
        "calc1 = Calculator(5,3)\n",
        "\n",
        "\n",
        "print(calc1.sum())\n",
        "\n",
        "print(calc1.subtract())\n",
        "\n",
        "print(calc1.product())\n",
        "\n",
        "print(calc1.divide())\n",
        "\n",
        "\n",
        "8\n",
        "\n",
        "2\n",
        "\n",
        "15\n",
        "\n",
        "1.6666666666666667"
      ],
      "metadata": {
        "id": "pFl7wm6ysqNl"
      }
    },
    {
      "cell_type": "code",
      "source": [],
      "metadata": {
        "id": "JSN2QM_EsrYn"
      },
      "execution_count": null,
      "outputs": []
    },
    {
      "cell_type": "markdown",
      "source": [
        "Write function named 'palindrome' to test whether the entered word or sentence is a palindrome.\n",
        "Ignore capitalization, spaces, punctuation marks, symbols, etc. This code should be written with simple python without importing any libraries\n",
        "\n",
        "Palindrome examples:\n",
        "\n",
        "mom\n",
        "\n",
        "wow\n",
        "\n",
        "noon\n",
        "\n",
        "level\n",
        "\n",
        "radar\n",
        "\n",
        "kayak\n",
        "\n",
        "racecar\n",
        "\n",
        "God's dog\n",
        "\n",
        "Madam, I'm Adam"
      ],
      "metadata": {
        "id": "TX3hSZaXs8Np"
      }
    },
    {
      "cell_type": "code",
      "source": [],
      "metadata": {
        "id": "TETrD-CVuGVQ"
      },
      "execution_count": null,
      "outputs": []
    },
    {
      "cell_type": "markdown",
      "source": [
        "#Example from pandas, numpy, and matplotlib libraries"
      ],
      "metadata": {
        "id": "0TQkA4kJuamx"
      }
    },
    {
      "cell_type": "markdown",
      "source": [
        "Write a python code that generates 1000 random number between -5 and 5 with normal distribution and then plot them:"
      ],
      "metadata": {
        "id": "w90Bj51D0m2j"
      }
    },
    {
      "cell_type": "code",
      "source": [],
      "metadata": {
        "id": "OjZpU3n_0t_L"
      },
      "execution_count": null,
      "outputs": []
    },
    {
      "cell_type": "markdown",
      "source": [
        "Read in the data:\n",
        "\n",
        "!wget --no-clobber https://raw.githubusercontent.com/tn-220/EmergingClass/main/data_studentlist.csv\n",
        "\n",
        "df = pd.read_csv('data_studentlist.csv', header='infer')\n",
        "\n",
        "df.head(5)\n",
        "\n",
        "**Answer the following questions using Pandas library.**\n",
        "\n",
        "1) Average height of the male students:"
      ],
      "metadata": {
        "id": "EeIXG79AvayG"
      }
    },
    {
      "cell_type": "code",
      "source": [],
      "metadata": {
        "id": "rtcA0X8luwEZ"
      },
      "execution_count": null,
      "outputs": []
    },
    {
      "cell_type": "markdown",
      "source": [
        "2) Average height of the female students:"
      ],
      "metadata": {
        "id": "AQ96I2hJvwUs"
      }
    },
    {
      "cell_type": "code",
      "source": [],
      "metadata": {
        "id": "icDx4YT7v1MK"
      },
      "execution_count": null,
      "outputs": []
    },
    {
      "cell_type": "markdown",
      "source": [
        "3) Average weight of the male students:"
      ],
      "metadata": {
        "id": "Cf1mQNBVv2av"
      }
    },
    {
      "cell_type": "code",
      "source": [],
      "metadata": {
        "id": "Pb7a5Ma1wHVQ"
      },
      "execution_count": null,
      "outputs": []
    },
    {
      "cell_type": "markdown",
      "source": [
        "4) The tallest height among the male students:"
      ],
      "metadata": {
        "id": "dvStklTSwIE3"
      }
    },
    {
      "cell_type": "code",
      "source": [],
      "metadata": {
        "id": "3OBZXBowwQhJ"
      },
      "execution_count": null,
      "outputs": []
    },
    {
      "cell_type": "markdown",
      "source": [
        "5) The average grade of students with absence ('Y'):\n"
      ],
      "metadata": {
        "id": "Rkb6aToMwRKI"
      }
    },
    {
      "cell_type": "code",
      "source": [],
      "metadata": {
        "id": "TMf6oggVwa-I"
      },
      "execution_count": null,
      "outputs": []
    },
    {
      "cell_type": "markdown",
      "source": [
        "6) Average age of the students with absence ('Y') whose grade is equal or larger than 3:"
      ],
      "metadata": {
        "id": "iwRY3m4Nwb1q"
      }
    },
    {
      "cell_type": "code",
      "source": [],
      "metadata": {
        "id": "FG-dnrzywlqr"
      },
      "execution_count": null,
      "outputs": []
    },
    {
      "cell_type": "markdown",
      "source": [
        "Use pandas and numpy for following:\n",
        "\n",
        "Read in the data.\n",
        "\n",
        "!wget --no-clobber https://raw.githubusercontent.com/tn-220/EmergingClass/main/data_census.csv\n",
        "\n",
        "df = pd.read_csv('data_census.csv', header='infer')\n",
        "\n",
        "df.shape\n",
        "\n",
        "df.head(10)\n",
        "\n",
        "**Answer the following questions using Pandas library.**\n",
        "\n",
        "1) Total population of ProvinceCode equal to 115 and 116:"
      ],
      "metadata": {
        "id": "OzuUo-26xRP5"
      }
    },
    {
      "cell_type": "code",
      "source": [],
      "metadata": {
        "id": "U1_KCsWWxeHp"
      },
      "execution_count": null,
      "outputs": []
    },
    {
      "cell_type": "markdown",
      "source": [
        "2) Average population of the cities where there are more males (GenderRatio >1:"
      ],
      "metadata": {
        "id": "az8ph_o9xb4I"
      }
    },
    {
      "cell_type": "code",
      "source": [],
      "metadata": {
        "id": "riP5TZL-xU2x"
      },
      "execution_count": null,
      "outputs": []
    },
    {
      "cell_type": "markdown",
      "source": [
        "\n",
        "3) Places with more males (GenderRatio >1) and less than 2 persons per household:\n",
        "\n",
        " "
      ],
      "metadata": {
        "id": "MD0AXxnGxm9Q"
      }
    },
    {
      "cell_type": "code",
      "source": [],
      "metadata": {
        "id": "MnD5ntWAxpMy"
      },
      "execution_count": null,
      "outputs": []
    },
    {
      "cell_type": "markdown",
      "source": [
        "\n",
        "4) Sort the DataFrame in ascending order of the 'Households'. Show the top 10."
      ],
      "metadata": {
        "id": "vPdl2MLJxqPd"
      }
    },
    {
      "cell_type": "code",
      "source": [],
      "metadata": {
        "id": "DzBeup02ysb3"
      },
      "execution_count": null,
      "outputs": []
    },
    {
      "cell_type": "markdown",
      "source": [
        "###Import pandas, numpy , and mathplotlib\n",
        "\n",
        "Read in the data.\n",
        "!wget --no-clobber https://raw.githubusercontent.com/tn-220/EmergingClass/main/data_coffeeshop.csv\n",
        "\n",
        "**Answer the following questions.**\n",
        "\n",
        "1) Make a frequency table of 'yearOfStart' and visualize by year.\n",
        "\n",
        "\n",
        "* Sort by the year.\n",
        "\n",
        "* Draw a line plot from 1997 to 2014. <= Hint: plt.xlim()"
      ],
      "metadata": {
        "id": "vU_tm0gQytCG"
      }
    },
    {
      "cell_type": "code",
      "source": [],
      "metadata": {
        "id": "ahS0CfvNytYt"
      },
      "execution_count": null,
      "outputs": []
    },
    {
      "cell_type": "markdown",
      "source": [
        "2) Now, split the data by the current state of business ('In' or 'Out' of business). Then, visualize the yearly trend of the 'yearOfStart' frequencies.\n",
        "\n",
        "* Sort by the year.\n",
        "* Draw two overlapping line plots from 1997 to 2014.\n",
        "* Use the 'figure' object."
      ],
      "metadata": {
        "id": "m_iArmf7zd7v"
      }
    },
    {
      "cell_type": "code",
      "source": [],
      "metadata": {
        "id": "LShbzNAtzsR6"
      },
      "execution_count": null,
      "outputs": []
    },
    {
      "cell_type": "markdown",
      "source": [
        "3) From the results of 1) and 2), how can you describe the trend in general?\n",
        "\n",
        "* Around the year 2008, began a steep increase in the number of new coffee shops.\n",
        "* As of the year 2014, more coffee shops opened in the past 5 years are still in business rather than going out of business."
      ],
      "metadata": {
        "id": "lH_AgrBJzwZw"
      }
    },
    {
      "cell_type": "code",
      "source": [],
      "metadata": {
        "id": "MyMy9VlQz2jv"
      },
      "execution_count": null,
      "outputs": []
    }
  ]
}